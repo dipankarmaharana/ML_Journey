{
 "cells": [
  {
   "cell_type": "markdown",
   "id": "9154f016",
   "metadata": {},
   "source": [
    "###### WAP to check the number in a list is even or odd then print the odd number only."
   ]
  },
  {
   "cell_type": "code",
   "execution_count": 2,
   "id": "daf92648",
   "metadata": {},
   "outputs": [
    {
     "name": "stdout",
     "output_type": "stream",
     "text": [
      "The odd no: 5\n",
      "The odd no: 1\n",
      "The odd no: 19\n"
     ]
    }
   ],
   "source": [
    "myList = [4,5,100,1,19]\n",
    "for no in myList:\n",
    "    if no%2!=0:\n",
    "        print(f'The odd no: {no}')"
   ]
  },
  {
   "cell_type": "markdown",
   "id": "0a3663c1",
   "metadata": {},
   "source": [
    "# Built-in functions and operators"
   ]
  },
  {
   "cell_type": "markdown",
   "id": "cec2d16b",
   "metadata": {},
   "source": [
    "### 1. range\n",
    "###### Generator function which generates information instead of saving it to memory"
   ]
  },
  {
   "cell_type": "code",
   "execution_count": 3,
   "id": "2dab96b5",
   "metadata": {},
   "outputs": [
    {
     "name": "stdout",
     "output_type": "stream",
     "text": [
      "Silicon\n",
      "Silicon\n",
      "Silicon\n",
      "Silicon\n",
      "Silicon\n"
     ]
    }
   ],
   "source": [
    "for a in range(5):\n",
    "    print(\"Silicon\")"
   ]
  },
  {
   "cell_type": "code",
   "execution_count": 7,
   "id": "cc8adc11",
   "metadata": {},
   "outputs": [
    {
     "name": "stdout",
     "output_type": "stream",
     "text": [
      "0\n",
      "2\n",
      "4\n",
      "6\n",
      "8\n",
      "10\n"
     ]
    }
   ],
   "source": [
    "for i in range(0,11,2):\n",
    "    print(i)"
   ]
  },
  {
   "cell_type": "code",
   "execution_count": 8,
   "id": "0ac763ee",
   "metadata": {},
   "outputs": [
    {
     "name": "stdout",
     "output_type": "stream",
     "text": [
      "0,s\n",
      "1,i\n",
      "2,l\n",
      "3,i\n",
      "4,c\n",
      "5,o\n",
      "6,n\n"
     ]
    }
   ],
   "source": [
    "count = 0\n",
    "for i in 'silicon':\n",
    "    print('{},{}'.format(count,i))\n",
    "    count+=1"
   ]
  },
  {
   "cell_type": "markdown",
   "id": "820f56dd",
   "metadata": {},
   "source": [
    "### 2. enumerate\n",
    "###### Assign an index to each object in an iterable object. The object can be referred later."
   ]
  },
  {
   "cell_type": "code",
   "execution_count": 9,
   "id": "276a5fb7",
   "metadata": {},
   "outputs": [
    {
     "name": "stdout",
     "output_type": "stream",
     "text": [
      "(0, 's')\n",
      "(1, 'i')\n",
      "(2, 'l')\n",
      "(3, 'i')\n",
      "(4, 'c')\n",
      "(5, 'o')\n",
      "(6, 'n')\n"
     ]
    }
   ],
   "source": [
    "myString = 'silicon'\n",
    "for a in enumerate(myString):\n",
    "    print(a)"
   ]
  },
  {
   "cell_type": "code",
   "execution_count": 12,
   "id": "64a88c28",
   "metadata": {},
   "outputs": [
    {
     "name": "stdout",
     "output_type": "stream",
     "text": [
      "0 s\n",
      "1 i\n",
      "2 l\n",
      "3 i\n",
      "4 c\n",
      "5 o\n",
      "6 n\n"
     ]
    }
   ],
   "source": [
    "for (a,b) in enumerate(myString):\n",
    "    print(a, end = ' ')\n",
    "    print(b)"
   ]
  },
  {
   "cell_type": "markdown",
   "id": "b3b03eb5",
   "metadata": {},
   "source": [
    "### 3. zip"
   ]
  },
  {
   "cell_type": "code",
   "execution_count": 14,
   "id": "c34d5b11",
   "metadata": {},
   "outputs": [
    {
     "name": "stdout",
     "output_type": "stream",
     "text": [
      "(1, 4)\n",
      "(0, 5)\n",
      "(2, 6)\n"
     ]
    }
   ],
   "source": [
    "list1 = [1,0,2]\n",
    "list2 = [4,5,6]\n",
    "for a in zip(list1,list2):\n",
    "    print(a)"
   ]
  },
  {
   "cell_type": "markdown",
   "id": "af564d76",
   "metadata": {},
   "source": [
    "### 4. in"
   ]
  },
  {
   "cell_type": "code",
   "execution_count": 15,
   "id": "091de4a0",
   "metadata": {},
   "outputs": [
    {
     "data": {
      "text/plain": [
       "True"
      ]
     },
     "execution_count": 15,
     "metadata": {},
     "output_type": "execute_result"
    }
   ],
   "source": [
    "2 in list1"
   ]
  },
  {
   "cell_type": "code",
   "execution_count": 16,
   "id": "2a61400d",
   "metadata": {},
   "outputs": [
    {
     "data": {
      "text/plain": [
       "False"
      ]
     },
     "execution_count": 16,
     "metadata": {},
     "output_type": "execute_result"
    }
   ],
   "source": [
    "4 in list1"
   ]
  },
  {
   "cell_type": "code",
   "execution_count": 17,
   "id": "c7ad8c08",
   "metadata": {},
   "outputs": [
    {
     "data": {
      "text/plain": [
       "False"
      ]
     },
     "execution_count": 17,
     "metadata": {},
     "output_type": "execute_result"
    }
   ],
   "source": [
    "'key1' in {'k2':100,'k0':'a'}"
   ]
  },
  {
   "cell_type": "markdown",
   "id": "69f6f808",
   "metadata": {},
   "source": [
    "### 5. min and max"
   ]
  },
  {
   "cell_type": "code",
   "execution_count": 18,
   "id": "df723921",
   "metadata": {},
   "outputs": [
    {
     "data": {
      "text/plain": [
       "0"
      ]
     },
     "execution_count": 18,
     "metadata": {},
     "output_type": "execute_result"
    }
   ],
   "source": [
    "min(list1)"
   ]
  },
  {
   "cell_type": "code",
   "execution_count": 19,
   "id": "835a47e1",
   "metadata": {},
   "outputs": [
    {
     "data": {
      "text/plain": [
       "6"
      ]
     },
     "execution_count": 19,
     "metadata": {},
     "output_type": "execute_result"
    }
   ],
   "source": [
    "max(list2)"
   ]
  },
  {
   "cell_type": "markdown",
   "id": "55698484",
   "metadata": {},
   "source": [
    "### 6. input"
   ]
  },
  {
   "cell_type": "code",
   "execution_count": 20,
   "id": "ec47f0fa",
   "metadata": {},
   "outputs": [
    {
     "name": "stdout",
     "output_type": "stream",
     "text": [
      "Enter a number23\n"
     ]
    }
   ],
   "source": [
    "A = input('Enter a number')"
   ]
  },
  {
   "cell_type": "code",
   "execution_count": 21,
   "id": "bc7a638c",
   "metadata": {},
   "outputs": [
    {
     "data": {
      "text/plain": [
       "str"
      ]
     },
     "execution_count": 21,
     "metadata": {},
     "output_type": "execute_result"
    }
   ],
   "source": [
    "type(A)"
   ]
  },
  {
   "cell_type": "markdown",
   "id": "f9b43ad1",
   "metadata": {},
   "source": [
    "# List Comprehensions"
   ]
  },
  {
   "cell_type": "code",
   "execution_count": 22,
   "id": "fcf41981",
   "metadata": {},
   "outputs": [],
   "source": [
    "myList1 = [1,2,3]\n",
    "myList2 = [4,5]\n",
    "result = []\n",
    "for a in myList1:\n",
    "    for b in myList2:\n",
    "        result.append(a*b)"
   ]
  },
  {
   "cell_type": "code",
   "execution_count": 23,
   "id": "dc2a68a7",
   "metadata": {},
   "outputs": [
    {
     "data": {
      "text/plain": [
       "[4, 5, 8, 10, 12, 15]"
      ]
     },
     "execution_count": 23,
     "metadata": {},
     "output_type": "execute_result"
    }
   ],
   "source": [
    "result"
   ]
  },
  {
   "cell_type": "code",
   "execution_count": 24,
   "id": "4f80a09c",
   "metadata": {},
   "outputs": [],
   "source": [
    "results = [a*b for a in myList1 for b in myList2]"
   ]
  },
  {
   "cell_type": "code",
   "execution_count": 25,
   "id": "7ee32d43",
   "metadata": {},
   "outputs": [
    {
     "data": {
      "text/plain": [
       "[4, 5, 8, 10, 12, 15]"
      ]
     },
     "execution_count": 25,
     "metadata": {},
     "output_type": "execute_result"
    }
   ],
   "source": [
    "results"
   ]
  },
  {
   "cell_type": "code",
   "execution_count": 28,
   "id": "b5d5be1e",
   "metadata": {},
   "outputs": [],
   "source": [
    "even = [x for x in results if x%2 == 0]"
   ]
  },
  {
   "cell_type": "code",
   "execution_count": 29,
   "id": "e1490a5a",
   "metadata": {},
   "outputs": [
    {
     "data": {
      "text/plain": [
       "[4, 8, 10, 12]"
      ]
     },
     "execution_count": 29,
     "metadata": {},
     "output_type": "execute_result"
    }
   ],
   "source": [
    "even"
   ]
  },
  {
   "cell_type": "code",
   "execution_count": 31,
   "id": "bea0b819",
   "metadata": {},
   "outputs": [],
   "source": [
    "xc = [2,4,5]\n",
    "s = [1,2,3]\n",
    "c = 3\n",
    "y = [(m*x+c) for m in s for x in xc]"
   ]
  },
  {
   "cell_type": "code",
   "execution_count": 32,
   "id": "3f7f2798",
   "metadata": {},
   "outputs": [
    {
     "data": {
      "text/plain": [
       "[5, 7, 8, 7, 11, 13, 9, 15, 18]"
      ]
     },
     "execution_count": 32,
     "metadata": {},
     "output_type": "execute_result"
    }
   ],
   "source": [
    "y"
   ]
  },
  {
   "cell_type": "code",
   "execution_count": null,
   "id": "ee1b9ce9",
   "metadata": {},
   "outputs": [],
   "source": []
  }
 ],
 "metadata": {
  "kernelspec": {
   "display_name": "Python 3",
   "language": "python",
   "name": "python3"
  },
  "language_info": {
   "codemirror_mode": {
    "name": "ipython",
    "version": 3
   },
   "file_extension": ".py",
   "mimetype": "text/x-python",
   "name": "python",
   "nbconvert_exporter": "python",
   "pygments_lexer": "ipython3",
   "version": "3.8.8"
  }
 },
 "nbformat": 4,
 "nbformat_minor": 5
}

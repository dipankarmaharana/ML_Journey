{
 "cells": [
  {
   "cell_type": "markdown",
   "id": "a2d491d7",
   "metadata": {},
   "source": [
    "# Inheritance"
   ]
  },
  {
   "cell_type": "code",
   "execution_count": 1,
   "id": "c40be73f",
   "metadata": {},
   "outputs": [],
   "source": [
    "class Student1():\n",
    "    def __init__(self,name,regd):\n",
    "        self.name = name\n",
    "        self.regd = regd\n",
    "    def getDetails(self):\n",
    "        print(f\"Hello Mr {self.name}. Your regd no is {self.regd}\")"
   ]
  },
  {
   "cell_type": "code",
   "execution_count": 2,
   "id": "da95acc7",
   "metadata": {},
   "outputs": [],
   "source": [
    "class Student2(Student1):\n",
    "    pass"
   ]
  },
  {
   "cell_type": "code",
   "execution_count": 3,
   "id": "d8af9190",
   "metadata": {},
   "outputs": [],
   "source": [
    "x = Student2('Ram',222)"
   ]
  },
  {
   "cell_type": "code",
   "execution_count": 4,
   "id": "2e08c0df",
   "metadata": {},
   "outputs": [
    {
     "name": "stdout",
     "output_type": "stream",
     "text": [
      "Hello Mr Ram. Your regd no is 222\n"
     ]
    }
   ],
   "source": [
    "x.getDetails()"
   ]
  },
  {
   "cell_type": "code",
   "execution_count": 5,
   "id": "4371f606",
   "metadata": {},
   "outputs": [],
   "source": [
    "class Student2(Student1):\n",
    "    def __init__(self,clg,batch):\n",
    "        self.clg = clg\n",
    "        self.batch = batch"
   ]
  },
  {
   "cell_type": "code",
   "execution_count": 6,
   "id": "1a4e6a0f",
   "metadata": {},
   "outputs": [],
   "source": [
    "y = Student2('Silicon',2020)"
   ]
  },
  {
   "cell_type": "code",
   "execution_count": 10,
   "id": "783da15e",
   "metadata": {},
   "outputs": [],
   "source": [
    "class Student2(Student1):\n",
    "    def __init__(self,name,regd,clg,batch):\n",
    "        Student1.__init__(self,name,regd)\n",
    "#         self.name = name\n",
    "#         self.regd = regd\n",
    "        self.clg = clg\n",
    "        self.batch = batch"
   ]
  },
  {
   "cell_type": "code",
   "execution_count": 11,
   "id": "43dc9f8f",
   "metadata": {},
   "outputs": [],
   "source": [
    "z = Student2('Ram',222,'Silicon',2000)"
   ]
  },
  {
   "cell_type": "code",
   "execution_count": 12,
   "id": "7a399101",
   "metadata": {},
   "outputs": [
    {
     "name": "stdout",
     "output_type": "stream",
     "text": [
      "Hello Mr Ram. Your regd no is 222\n"
     ]
    }
   ],
   "source": [
    "z.getDetails()"
   ]
  },
  {
   "cell_type": "code",
   "execution_count": 13,
   "id": "e878cf9d",
   "metadata": {},
   "outputs": [
    {
     "data": {
      "text/plain": [
       "'Silicon'"
      ]
     },
     "execution_count": 13,
     "metadata": {},
     "output_type": "execute_result"
    }
   ],
   "source": [
    "z.clg"
   ]
  },
  {
   "cell_type": "code",
   "execution_count": 15,
   "id": "c08ac51a",
   "metadata": {},
   "outputs": [],
   "source": [
    "class Student2(Student1):\n",
    "    def __init__(self,name,regd,clg,batch):\n",
    "        super().__init__(name,regd)\n",
    "#         self.name = name\n",
    "#         self.regd = regd\n",
    "        self.clg = clg\n",
    "        self.batch = batch"
   ]
  },
  {
   "cell_type": "code",
   "execution_count": 16,
   "id": "3609289e",
   "metadata": {},
   "outputs": [],
   "source": [
    "z1 = Student2('Ram',222,'Silicon',2000)"
   ]
  },
  {
   "cell_type": "code",
   "execution_count": 17,
   "id": "a1d75e40",
   "metadata": {},
   "outputs": [
    {
     "name": "stdout",
     "output_type": "stream",
     "text": [
      "Hello Mr Ram. Your regd no is 222\n"
     ]
    }
   ],
   "source": [
    "z1.getDetails()"
   ]
  },
  {
   "cell_type": "code",
   "execution_count": 18,
   "id": "2fe05edc",
   "metadata": {},
   "outputs": [
    {
     "data": {
      "text/plain": [
       "2000"
      ]
     },
     "execution_count": 18,
     "metadata": {},
     "output_type": "execute_result"
    }
   ],
   "source": [
    "z1.batch"
   ]
  },
  {
   "cell_type": "markdown",
   "id": "acb8bafc",
   "metadata": {},
   "source": [
    "# Exception Handling"
   ]
  },
  {
   "cell_type": "code",
   "execution_count": 19,
   "id": "32769e70",
   "metadata": {},
   "outputs": [
    {
     "ename": "TypeError",
     "evalue": "unsupported operand type(s) for +: 'int' and 'str'",
     "output_type": "error",
     "traceback": [
      "\u001b[1;31m---------------------------------------------------------------------------\u001b[0m",
      "\u001b[1;31mTypeError\u001b[0m                                 Traceback (most recent call last)",
      "\u001b[1;32m<ipython-input-19-d80567e40a3c>\u001b[0m in \u001b[0;36m<module>\u001b[1;34m\u001b[0m\n\u001b[1;32m----> 1\u001b[1;33m \u001b[0ma\u001b[0m \u001b[1;33m=\u001b[0m \u001b[1;36m2\u001b[0m \u001b[1;33m+\u001b[0m \u001b[1;34m'2'\u001b[0m\u001b[1;33m\u001b[0m\u001b[1;33m\u001b[0m\u001b[0m\n\u001b[0m\u001b[0;32m      2\u001b[0m \u001b[0ma\u001b[0m\u001b[1;33m\u001b[0m\u001b[1;33m\u001b[0m\u001b[0m\n",
      "\u001b[1;31mTypeError\u001b[0m: unsupported operand type(s) for +: 'int' and 'str'"
     ]
    }
   ],
   "source": [
    "a = 2 + '2'\n",
    "a"
   ]
  },
  {
   "cell_type": "code",
   "execution_count": 20,
   "id": "0c3f7c8a",
   "metadata": {},
   "outputs": [
    {
     "name": "stdout",
     "output_type": "stream",
     "text": [
      "There is an type error\n"
     ]
    }
   ],
   "source": [
    "try:\n",
    "    a = 2 + '2'\n",
    "except:\n",
    "    print(f'There is an type error')"
   ]
  },
  {
   "cell_type": "code",
   "execution_count": 22,
   "id": "62104041",
   "metadata": {},
   "outputs": [
    {
     "name": "stdout",
     "output_type": "stream",
     "text": [
      "Enter a number: 23\n"
     ]
    },
    {
     "ename": "TypeError",
     "evalue": "unsupported operand type(s) for +: 'int' and 'str'",
     "output_type": "error",
     "traceback": [
      "\u001b[1;31m---------------------------------------------------------------------------\u001b[0m",
      "\u001b[1;31mTypeError\u001b[0m                                 Traceback (most recent call last)",
      "\u001b[1;32m<ipython-input-22-8c421a80c17c>\u001b[0m in \u001b[0;36m<module>\u001b[1;34m\u001b[0m\n\u001b[0;32m      1\u001b[0m \u001b[0ma\u001b[0m \u001b[1;33m=\u001b[0m \u001b[1;36m20\u001b[0m\u001b[1;33m\u001b[0m\u001b[1;33m\u001b[0m\u001b[0m\n\u001b[0;32m      2\u001b[0m \u001b[0mb\u001b[0m \u001b[1;33m=\u001b[0m \u001b[0minput\u001b[0m\u001b[1;33m(\u001b[0m\u001b[1;34m'Enter a number: '\u001b[0m\u001b[1;33m)\u001b[0m\u001b[1;33m\u001b[0m\u001b[1;33m\u001b[0m\u001b[0m\n\u001b[1;32m----> 3\u001b[1;33m \u001b[0mx\u001b[0m \u001b[1;33m=\u001b[0m \u001b[0ma\u001b[0m \u001b[1;33m+\u001b[0m \u001b[0mb\u001b[0m\u001b[1;33m\u001b[0m\u001b[1;33m\u001b[0m\u001b[0m\n\u001b[0m\u001b[0;32m      4\u001b[0m \u001b[0mprint\u001b[0m \u001b[1;33m(\u001b[0m\u001b[0mx\u001b[0m\u001b[1;33m)\u001b[0m\u001b[1;33m\u001b[0m\u001b[1;33m\u001b[0m\u001b[0m\n",
      "\u001b[1;31mTypeError\u001b[0m: unsupported operand type(s) for +: 'int' and 'str'"
     ]
    }
   ],
   "source": [
    "a = 20\n",
    "b = input('Enter a number: ')\n",
    "x = a + b\n",
    "print (x)"
   ]
  },
  {
   "cell_type": "code",
   "execution_count": 23,
   "id": "30a9ff08",
   "metadata": {},
   "outputs": [
    {
     "data": {
      "text/plain": [
       "str"
      ]
     },
     "execution_count": 23,
     "metadata": {},
     "output_type": "execute_result"
    }
   ],
   "source": [
    "type(b)"
   ]
  },
  {
   "cell_type": "code",
   "execution_count": 24,
   "id": "11e9ed26",
   "metadata": {},
   "outputs": [
    {
     "name": "stdout",
     "output_type": "stream",
     "text": [
      "Enter a number: 34\n",
      "There is an type error\n"
     ]
    }
   ],
   "source": [
    "try:\n",
    "    a = 20\n",
    "    b = input('Enter a number: ')\n",
    "    x = a + b\n",
    "    print (x)\n",
    "except:\n",
    "    print(f'There is an type error')"
   ]
  },
  {
   "cell_type": "code",
   "execution_count": 25,
   "id": "2aa5074c",
   "metadata": {},
   "outputs": [
    {
     "name": "stdout",
     "output_type": "stream",
     "text": [
      "Enter a number: 10\n",
      "30\n"
     ]
    }
   ],
   "source": [
    "try:\n",
    "    a = 20\n",
    "    b = int(input('Enter a number: '))\n",
    "    x = a + b\n",
    "    print (x)\n",
    "except:\n",
    "    print(f'There is an type error')"
   ]
  },
  {
   "cell_type": "code",
   "execution_count": 26,
   "id": "c523a24e",
   "metadata": {},
   "outputs": [
    {
     "name": "stdout",
     "output_type": "stream",
     "text": [
      "Enter a number: 12\n",
      "32\n",
      "Implemented Successfully\n"
     ]
    }
   ],
   "source": [
    "try:\n",
    "    a = 20\n",
    "    b = int(input('Enter a number: '))\n",
    "    x = a + b\n",
    "    print (x)\n",
    "except:\n",
    "    print(f'There is an type error')\n",
    "finally:\n",
    "    print(f'Implemented Successfully')"
   ]
  },
  {
   "cell_type": "code",
   "execution_count": 27,
   "id": "15c67608",
   "metadata": {},
   "outputs": [
    {
     "name": "stdout",
     "output_type": "stream",
     "text": [
      "Enter a number: '10'\n",
      "There is an type error\n",
      "Implemented Successfully\n"
     ]
    }
   ],
   "source": [
    "try:\n",
    "    a = 20\n",
    "    b = int(input('Enter a number: '))\n",
    "    x = a + b\n",
    "    print (x)\n",
    "except:\n",
    "    print(f'There is an type error')\n",
    "finally:\n",
    "    print(f'Implemented Successfully')"
   ]
  },
  {
   "cell_type": "code",
   "execution_count": 28,
   "id": "ae5c47bf",
   "metadata": {},
   "outputs": [
    {
     "name": "stdout",
     "output_type": "stream",
     "text": [
      "Hey! There is a type error\n",
      "Thank you\n"
     ]
    }
   ],
   "source": [
    "try:\n",
    "    result = 10 + '10'\n",
    "except OSError :\n",
    "    print('Hey! There is an OS Error')\n",
    "except TypeError:\n",
    "    print('Hey! There is a type error')\n",
    "finally:\n",
    "    print('Thank you')\n",
    "    "
   ]
  },
  {
   "cell_type": "code",
   "execution_count": 29,
   "id": "d82dbd0a",
   "metadata": {},
   "outputs": [
    {
     "name": "stdout",
     "output_type": "stream",
     "text": [
      "Hey! There is a type error\n",
      "Thank you\n"
     ]
    }
   ],
   "source": [
    "try:\n",
    "    result = 10 + '10'\n",
    "except TypeError:\n",
    "    print('Hey! There is a type error')\n",
    "except OSError :\n",
    "    print('Hey! There is an OS Error')\n",
    "finally:\n",
    "    print('Thank you')\n",
    "    "
   ]
  },
  {
   "cell_type": "markdown",
   "id": "85c26d23",
   "metadata": {},
   "source": []
  }
 ],
 "metadata": {
  "kernelspec": {
   "display_name": "Python 3",
   "language": "python",
   "name": "python3"
  },
  "language_info": {
   "codemirror_mode": {
    "name": "ipython",
    "version": 3
   },
   "file_extension": ".py",
   "mimetype": "text/x-python",
   "name": "python",
   "nbconvert_exporter": "python",
   "pygments_lexer": "ipython3",
   "version": "3.8.8"
  }
 },
 "nbformat": 4,
 "nbformat_minor": 5
}

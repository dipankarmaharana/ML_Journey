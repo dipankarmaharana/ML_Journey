{
 "cells": [
  {
   "cell_type": "markdown",
   "id": "19ba63a8",
   "metadata": {},
   "source": [
    "# OOP"
   ]
  },
  {
   "cell_type": "code",
   "execution_count": 1,
   "id": "9443b0bd",
   "metadata": {},
   "outputs": [],
   "source": [
    "class Student():\n",
    "    def __init__(self,name,regd):\n",
    "        self.name = name\n",
    "        self.regd = regd"
   ]
  },
  {
   "cell_type": "code",
   "execution_count": 2,
   "id": "5f1908d6",
   "metadata": {},
   "outputs": [],
   "source": [
    "Y = Student('Dipankar','20bcsa01')"
   ]
  },
  {
   "cell_type": "code",
   "execution_count": 3,
   "id": "eca51eb9",
   "metadata": {},
   "outputs": [
    {
     "data": {
      "text/plain": [
       "'Dipankar'"
      ]
     },
     "execution_count": 3,
     "metadata": {},
     "output_type": "execute_result"
    }
   ],
   "source": [
    "Y.name"
   ]
  },
  {
   "cell_type": "code",
   "execution_count": 4,
   "id": "e1ab04aa",
   "metadata": {},
   "outputs": [
    {
     "data": {
      "text/plain": [
       "'20bcsa01'"
      ]
     },
     "execution_count": 4,
     "metadata": {},
     "output_type": "execute_result"
    }
   ],
   "source": [
    "Y.regd"
   ]
  },
  {
   "cell_type": "code",
   "execution_count": 5,
   "id": "177a6ed9",
   "metadata": {},
   "outputs": [],
   "source": [
    "class Student():\n",
    "    def __init__(self,name,regd):\n",
    "        self.name = name\n",
    "        self.regd = regd\n",
    "    def getDetails(self):\n",
    "        print(f\"Hello Mr {self.name}. Your regd no is {self.regd}\")"
   ]
  },
  {
   "cell_type": "code",
   "execution_count": 6,
   "id": "57fd8906",
   "metadata": {},
   "outputs": [],
   "source": [
    "Z = Student('Ajay','2039')"
   ]
  },
  {
   "cell_type": "code",
   "execution_count": 7,
   "id": "e60b3271",
   "metadata": {},
   "outputs": [
    {
     "name": "stdout",
     "output_type": "stream",
     "text": [
      "Hello Mr Ajay. Your regd no is 2039\n"
     ]
    }
   ],
   "source": [
    "Z.getDetails()"
   ]
  },
  {
   "cell_type": "markdown",
   "id": "4fcefb9a",
   "metadata": {},
   "source": [
    "### Class Object Attribute"
   ]
  },
  {
   "cell_type": "code",
   "execution_count": 9,
   "id": "676987bc",
   "metadata": {},
   "outputs": [],
   "source": [
    "class Student():\n",
    "    course = 'ML'\n",
    "    def __init__(self,name,regd):\n",
    "        self.name = name\n",
    "        self.regd = regd\n",
    "    def getDetails(self):\n",
    "        print(f\"Hello Mr {self.name}. Your regd no is {self.regd}\")"
   ]
  },
  {
   "cell_type": "code",
   "execution_count": 10,
   "id": "0b836910",
   "metadata": {},
   "outputs": [],
   "source": [
    "Z = Student('Ajay','2039')"
   ]
  },
  {
   "cell_type": "code",
   "execution_count": 11,
   "id": "30f6ef01",
   "metadata": {},
   "outputs": [
    {
     "data": {
      "text/plain": [
       "'ML'"
      ]
     },
     "execution_count": 11,
     "metadata": {},
     "output_type": "execute_result"
    }
   ],
   "source": [
    "Z.course"
   ]
  },
  {
   "cell_type": "code",
   "execution_count": 22,
   "id": "d6bc6b9b",
   "metadata": {},
   "outputs": [],
   "source": [
    "class Student():\n",
    "    course = 'ML'\n",
    "    def __init__(self,name,age,marks):\n",
    "        self.name = name\n",
    "        self.age = age\n",
    "        self.marks = marks\n",
    "    def getDetails(self):\n",
    "        print(f\"Hello! My name is {self.name}, age {self.age} and scored {self.marks} in ML exam.\")"
   ]
  },
  {
   "cell_type": "code",
   "execution_count": 26,
   "id": "198d927e",
   "metadata": {},
   "outputs": [],
   "source": [
    "X = Student('Dipankar',19,100)"
   ]
  },
  {
   "cell_type": "code",
   "execution_count": 27,
   "id": "e56bc585",
   "metadata": {},
   "outputs": [
    {
     "name": "stdout",
     "output_type": "stream",
     "text": [
      "Hello! My name is Dipankar, age 19 and scored 100 in ML exam.\n"
     ]
    }
   ],
   "source": [
    "X.getDetails()"
   ]
  },
  {
   "cell_type": "code",
   "execution_count": 3,
   "id": "42bdf16b",
   "metadata": {},
   "outputs": [],
   "source": [
    "class Circle():\n",
    "    pi = 3.14\n",
    "    def __init__(self,r):\n",
    "        self.r = r\n",
    "        self.area = self.pi*(self.r)**2\n",
    "    def circumference(self):\n",
    "        self.circumference = 2 * self.pi * (self.r)"
   ]
  },
  {
   "cell_type": "code",
   "execution_count": 4,
   "id": "6ad5a75e",
   "metadata": {},
   "outputs": [],
   "source": [
    "c = Circle(2)"
   ]
  },
  {
   "cell_type": "code",
   "execution_count": 6,
   "id": "79a5e012",
   "metadata": {},
   "outputs": [
    {
     "data": {
      "text/plain": [
       "12.56"
      ]
     },
     "execution_count": 6,
     "metadata": {},
     "output_type": "execute_result"
    }
   ],
   "source": [
    "c.area"
   ]
  },
  {
   "cell_type": "code",
   "execution_count": 7,
   "id": "0290ed80",
   "metadata": {},
   "outputs": [],
   "source": [
    "c.circumference()"
   ]
  },
  {
   "cell_type": "code",
   "execution_count": 8,
   "id": "a05870bf",
   "metadata": {},
   "outputs": [
    {
     "data": {
      "text/plain": [
       "12.56"
      ]
     },
     "execution_count": 8,
     "metadata": {},
     "output_type": "execute_result"
    }
   ],
   "source": [
    "c.circumference"
   ]
  },
  {
   "cell_type": "markdown",
   "id": "d390c8f9",
   "metadata": {},
   "source": [
    "### String representation for user defined object"
   ]
  },
  {
   "cell_type": "code",
   "execution_count": 10,
   "id": "6b5fe4ee",
   "metadata": {},
   "outputs": [],
   "source": [
    "class Student():\n",
    "    course = 'ML'\n",
    "    def __init__(self,name,regd):\n",
    "        self.name = name\n",
    "        self.regd = regd\n",
    "    def getDetails(self):\n",
    "        print(f\"Hello Mr {self.name}. Your regd no is {self.regd}\")\n",
    "    def __str__(self):\n",
    "        return f\"Hello Mr {self.name}. Your regd no is {self.regd}\""
   ]
  },
  {
   "cell_type": "code",
   "execution_count": 11,
   "id": "2a35362a",
   "metadata": {},
   "outputs": [],
   "source": [
    "X = Student('Dipankar',123)"
   ]
  },
  {
   "cell_type": "code",
   "execution_count": 12,
   "id": "872b797a",
   "metadata": {},
   "outputs": [
    {
     "name": "stdout",
     "output_type": "stream",
     "text": [
      "Hello Mr Dipankar. Your regd no is 123\n"
     ]
    }
   ],
   "source": [
    "print(X)"
   ]
  },
  {
   "cell_type": "code",
   "execution_count": null,
   "id": "201a1a5b",
   "metadata": {},
   "outputs": [],
   "source": []
  }
 ],
 "metadata": {
  "kernelspec": {
   "display_name": "Python 3",
   "language": "python",
   "name": "python3"
  },
  "language_info": {
   "codemirror_mode": {
    "name": "ipython",
    "version": 3
   },
   "file_extension": ".py",
   "mimetype": "text/x-python",
   "name": "python",
   "nbconvert_exporter": "python",
   "pygments_lexer": "ipython3",
   "version": "3.8.8"
  }
 },
 "nbformat": 4,
 "nbformat_minor": 5
}

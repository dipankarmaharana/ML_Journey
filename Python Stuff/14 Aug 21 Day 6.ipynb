{
 "cells": [
  {
   "cell_type": "markdown",
   "id": "333963b6",
   "metadata": {},
   "source": [
    "# Functions"
   ]
  },
  {
   "cell_type": "code",
   "execution_count": 1,
   "id": "e5ca2a14",
   "metadata": {},
   "outputs": [],
   "source": [
    "def silicon_tech(number):\n",
    "    print(f'My age is : {number}')"
   ]
  },
  {
   "cell_type": "code",
   "execution_count": 2,
   "id": "fa9c5ba6",
   "metadata": {},
   "outputs": [
    {
     "name": "stdout",
     "output_type": "stream",
     "text": [
      "My age is : 20\n"
     ]
    }
   ],
   "source": [
    "silicon_tech(20)"
   ]
  },
  {
   "cell_type": "code",
   "execution_count": 3,
   "id": "89166232",
   "metadata": {},
   "outputs": [],
   "source": [
    "def sum_result(a,b):\n",
    "    return (a+b)"
   ]
  },
  {
   "cell_type": "code",
   "execution_count": 4,
   "id": "a5943fbf",
   "metadata": {},
   "outputs": [
    {
     "data": {
      "text/plain": [
       "8"
      ]
     },
     "execution_count": 4,
     "metadata": {},
     "output_type": "execute_result"
    }
   ],
   "source": [
    "sum_result(3,5)"
   ]
  },
  {
   "cell_type": "code",
   "execution_count": 12,
   "id": "ce346e15",
   "metadata": {},
   "outputs": [],
   "source": [
    "def check_number(mylist):\n",
    "    arr=[]\n",
    "    for x in mylist:\n",
    "        if x%2==0:\n",
    "            arr.append(x)\n",
    "        return arr\n",
    "            "
   ]
  },
  {
   "cell_type": "code",
   "execution_count": 13,
   "id": "39e42701",
   "metadata": {},
   "outputs": [
    {
     "data": {
      "text/plain": [
       "[2]"
      ]
     },
     "execution_count": 13,
     "metadata": {},
     "output_type": "execute_result"
    }
   ],
   "source": [
    "check_number([2,4,3,1])"
   ]
  },
  {
   "cell_type": "code",
   "execution_count": 16,
   "id": "152c4de8",
   "metadata": {},
   "outputs": [],
   "source": [
    "def checknumber(mylist):\n",
    "    return([a for a in mylist if a%2==0])"
   ]
  },
  {
   "cell_type": "code",
   "execution_count": 17,
   "id": "7ee5346e",
   "metadata": {},
   "outputs": [
    {
     "data": {
      "text/plain": [
       "[2, 4]"
      ]
     },
     "execution_count": 17,
     "metadata": {},
     "output_type": "execute_result"
    }
   ],
   "source": [
    "checknumber([1,2,3,4])"
   ]
  },
  {
   "cell_type": "code",
   "execution_count": 3,
   "id": "3330dbed",
   "metadata": {},
   "outputs": [],
   "source": [
    "student_name = [('Ram',50),('Gita',100),('Shyam',30)]"
   ]
  },
  {
   "cell_type": "code",
   "execution_count": 8,
   "id": "f20b20a8",
   "metadata": {},
   "outputs": [],
   "source": [
    "def highest_mark(arr):\n",
    "    m=0\n",
    "    s=''\n",
    "    for a,b in arr:\n",
    "        if b>m:\n",
    "            m=b\n",
    "            s=a\n",
    "        else:\n",
    "            pass\n",
    "    return(s,m)"
   ]
  },
  {
   "cell_type": "code",
   "execution_count": 9,
   "id": "adce39ad",
   "metadata": {},
   "outputs": [
    {
     "data": {
      "text/plain": [
       "('Gita', 100)"
      ]
     },
     "execution_count": 9,
     "metadata": {},
     "output_type": "execute_result"
    }
   ],
   "source": [
    "highest_mark(student_name)"
   ]
  },
  {
   "cell_type": "code",
   "execution_count": 10,
   "id": "ffaa366b",
   "metadata": {},
   "outputs": [],
   "source": [
    "myl=[1,2,3,4]\n",
    "from random import shuffle\n",
    "shuffle(myl)"
   ]
  },
  {
   "cell_type": "code",
   "execution_count": 11,
   "id": "8be2ba48",
   "metadata": {},
   "outputs": [
    {
     "data": {
      "text/plain": [
       "[3, 1, 4, 2]"
      ]
     },
     "execution_count": 11,
     "metadata": {},
     "output_type": "execute_result"
    }
   ],
   "source": [
    "myl"
   ]
  },
  {
   "cell_type": "code",
   "execution_count": null,
   "id": "2eae72bc",
   "metadata": {},
   "outputs": [],
   "source": []
  }
 ],
 "metadata": {
  "kernelspec": {
   "display_name": "Python 3",
   "language": "python",
   "name": "python3"
  },
  "language_info": {
   "codemirror_mode": {
    "name": "ipython",
    "version": 3
   },
   "file_extension": ".py",
   "mimetype": "text/x-python",
   "name": "python",
   "nbconvert_exporter": "python",
   "pygments_lexer": "ipython3",
   "version": "3.8.8"
  }
 },
 "nbformat": 4,
 "nbformat_minor": 5
}

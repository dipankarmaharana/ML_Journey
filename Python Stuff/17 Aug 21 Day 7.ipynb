{
 "cells": [
  {
   "cell_type": "markdown",
   "id": "ab7c0669",
   "metadata": {},
   "source": [
    "# Functional Arguments"
   ]
  },
  {
   "cell_type": "markdown",
   "id": "b357e8e6",
   "metadata": {},
   "source": [
    "### *args(Arguments)"
   ]
  },
  {
   "cell_type": "code",
   "execution_count": 1,
   "id": "6c1f0e2d",
   "metadata": {},
   "outputs": [],
   "source": [
    "# *args a,b\n",
    "def my_func(a,b):\n",
    "    return sum((a,b))"
   ]
  },
  {
   "cell_type": "code",
   "execution_count": 2,
   "id": "6bc9a5fe",
   "metadata": {},
   "outputs": [
    {
     "data": {
      "text/plain": [
       "5"
      ]
     },
     "execution_count": 2,
     "metadata": {},
     "output_type": "execute_result"
    }
   ],
   "source": [
    "my_func(2,3)"
   ]
  },
  {
   "cell_type": "code",
   "execution_count": 3,
   "id": "63e02a0e",
   "metadata": {},
   "outputs": [],
   "source": [
    "def my_func(*args):\n",
    "    return sum((args))"
   ]
  },
  {
   "cell_type": "code",
   "execution_count": 4,
   "id": "e2e5b235",
   "metadata": {},
   "outputs": [
    {
     "data": {
      "text/plain": [
       "14"
      ]
     },
     "execution_count": 4,
     "metadata": {},
     "output_type": "execute_result"
    }
   ],
   "source": [
    "my_func(2,3,4,5)"
   ]
  },
  {
   "cell_type": "code",
   "execution_count": 5,
   "id": "e67b4397",
   "metadata": {},
   "outputs": [],
   "source": [
    "def myfunc(**kwargs):\n",
    "    print(kwargs)"
   ]
  },
  {
   "cell_type": "code",
   "execution_count": 6,
   "id": "089d45fe",
   "metadata": {},
   "outputs": [
    {
     "name": "stdout",
     "output_type": "stream",
     "text": [
      "{'breakfast': 30, 'lunch': 100}\n"
     ]
    }
   ],
   "source": [
    "myfunc(breakfast=30,lunch=100)"
   ]
  },
  {
   "cell_type": "code",
   "execution_count": 7,
   "id": "e25e070e",
   "metadata": {},
   "outputs": [],
   "source": [
    "def myfunc(*args,**kwargs):\n",
    "    print('I would like to have {} {}'.format(args[0],kwargs['lunch']))"
   ]
  },
  {
   "cell_type": "code",
   "execution_count": 8,
   "id": "8ace964a",
   "metadata": {},
   "outputs": [
    {
     "name": "stdout",
     "output_type": "stream",
     "text": [
      "I would like to have 5 Paratha\n"
     ]
    }
   ],
   "source": [
    "myfunc(5,8,12,breakfast='upma',lunch='Paratha')"
   ]
  },
  {
   "cell_type": "markdown",
   "id": "b2f98f27",
   "metadata": {},
   "source": [
    "# map() function"
   ]
  },
  {
   "cell_type": "code",
   "execution_count": 9,
   "id": "27ca9ae7",
   "metadata": {},
   "outputs": [],
   "source": [
    "def mysq(no):\n",
    "    return no**2"
   ]
  },
  {
   "cell_type": "code",
   "execution_count": 10,
   "id": "35d3a87b",
   "metadata": {},
   "outputs": [
    {
     "data": {
      "text/plain": [
       "9"
      ]
     },
     "execution_count": 10,
     "metadata": {},
     "output_type": "execute_result"
    }
   ],
   "source": [
    "mysq(3)"
   ]
  },
  {
   "cell_type": "code",
   "execution_count": 11,
   "id": "ad84edde",
   "metadata": {},
   "outputs": [],
   "source": [
    "mylist = [1,2,3,4]"
   ]
  },
  {
   "cell_type": "code",
   "execution_count": 12,
   "id": "92a4acaf",
   "metadata": {},
   "outputs": [
    {
     "data": {
      "text/plain": [
       "<map at 0x266528e5160>"
      ]
     },
     "execution_count": 12,
     "metadata": {},
     "output_type": "execute_result"
    }
   ],
   "source": [
    "map(mysq,mylist)"
   ]
  },
  {
   "cell_type": "code",
   "execution_count": 14,
   "id": "e838e637",
   "metadata": {},
   "outputs": [
    {
     "data": {
      "text/plain": [
       "[1, 4, 9, 16]"
      ]
     },
     "execution_count": 14,
     "metadata": {},
     "output_type": "execute_result"
    }
   ],
   "source": [
    "list(map(mysq,mylist))"
   ]
  },
  {
   "cell_type": "markdown",
   "id": "b1cc6e23",
   "metadata": {},
   "source": [
    "# filter()"
   ]
  },
  {
   "cell_type": "code",
   "execution_count": 15,
   "id": "5b516592",
   "metadata": {},
   "outputs": [],
   "source": [
    "def check_even(num):\n",
    "    if num%2==0:\n",
    "        return num"
   ]
  },
  {
   "cell_type": "code",
   "execution_count": 16,
   "id": "db62c12a",
   "metadata": {},
   "outputs": [
    {
     "data": {
      "text/plain": [
       "[2, 4]"
      ]
     },
     "execution_count": 16,
     "metadata": {},
     "output_type": "execute_result"
    }
   ],
   "source": [
    "list(filter(check_even,mylist))"
   ]
  },
  {
   "cell_type": "markdown",
   "id": "1f066a76",
   "metadata": {},
   "source": [
    "# Lambda expression"
   ]
  },
  {
   "cell_type": "code",
   "execution_count": 20,
   "id": "b545b94a",
   "metadata": {},
   "outputs": [],
   "source": [
    "mysquare = lambda num : num**2"
   ]
  },
  {
   "cell_type": "code",
   "execution_count": 21,
   "id": "0c065e31",
   "metadata": {},
   "outputs": [
    {
     "data": {
      "text/plain": [
       "4"
      ]
     },
     "execution_count": 21,
     "metadata": {},
     "output_type": "execute_result"
    }
   ],
   "source": [
    "mysquare(2)"
   ]
  },
  {
   "cell_type": "code",
   "execution_count": 22,
   "id": "6cdf2a46",
   "metadata": {},
   "outputs": [
    {
     "data": {
      "text/plain": [
       "[1, 4, 9, 16]"
      ]
     },
     "execution_count": 22,
     "metadata": {},
     "output_type": "execute_result"
    }
   ],
   "source": [
    "list(map(lambda num : num**2, mylist))"
   ]
  },
  {
   "cell_type": "code",
   "execution_count": 23,
   "id": "8841a37c",
   "metadata": {},
   "outputs": [
    {
     "data": {
      "text/plain": [
       "<filter at 0x26652932cd0>"
      ]
     },
     "execution_count": 23,
     "metadata": {},
     "output_type": "execute_result"
    }
   ],
   "source": [
    "filter(lambda num: num%2==0, mylist)"
   ]
  },
  {
   "cell_type": "code",
   "execution_count": 24,
   "id": "402b5c75",
   "metadata": {},
   "outputs": [
    {
     "data": {
      "text/plain": [
       "[2, 4]"
      ]
     },
     "execution_count": 24,
     "metadata": {},
     "output_type": "execute_result"
    }
   ],
   "source": [
    "list(filter(lambda num: num%2==0, mylist))"
   ]
  },
  {
   "cell_type": "markdown",
   "id": "f134cd6a",
   "metadata": {},
   "source": [
    "# Scope"
   ]
  },
  {
   "cell_type": "code",
   "execution_count": 25,
   "id": "92c70f08",
   "metadata": {},
   "outputs": [
    {
     "name": "stdout",
     "output_type": "stream",
     "text": [
      "HelloTrident\n"
     ]
    }
   ],
   "source": [
    "my_string = 'Silicon'\n",
    "def clg_name():\n",
    "    my_string = 'Trident'\n",
    "    def hello():\n",
    "        print(\"Hello\" + my_string)\n",
    "    hello()\n",
    "clg_name()"
   ]
  },
  {
   "cell_type": "code",
   "execution_count": null,
   "id": "6adcf41b",
   "metadata": {},
   "outputs": [],
   "source": []
  }
 ],
 "metadata": {
  "kernelspec": {
   "display_name": "Python 3",
   "language": "python",
   "name": "python3"
  },
  "language_info": {
   "codemirror_mode": {
    "name": "ipython",
    "version": 3
   },
   "file_extension": ".py",
   "mimetype": "text/x-python",
   "name": "python",
   "nbconvert_exporter": "python",
   "pygments_lexer": "ipython3",
   "version": "3.8.8"
  }
 },
 "nbformat": 4,
 "nbformat_minor": 5
}

{
 "cells": [
  {
   "cell_type": "markdown",
   "id": "112116cb",
   "metadata": {},
   "source": [
    "### for Loop continued"
   ]
  },
  {
   "cell_type": "code",
   "execution_count": 2,
   "id": "b2838da0",
   "metadata": {},
   "outputs": [
    {
     "name": "stdout",
     "output_type": "stream",
     "text": [
      "S i l i c o n "
     ]
    }
   ],
   "source": [
    "myString = 'Silicon'\n",
    "for char in myString:\n",
    "    print(char, end = ' ')"
   ]
  },
  {
   "cell_type": "code",
   "execution_count": 3,
   "id": "e4026efd",
   "metadata": {},
   "outputs": [],
   "source": [
    "myList = [(1,2),(100,3),(300,200)]"
   ]
  },
  {
   "cell_type": "code",
   "execution_count": 4,
   "id": "359d664e",
   "metadata": {},
   "outputs": [
    {
     "name": "stdout",
     "output_type": "stream",
     "text": [
      "(1, 2)\n",
      "(100, 3)\n",
      "(300, 200)\n"
     ]
    }
   ],
   "source": [
    "for a in myList:\n",
    "    print(a)"
   ]
  },
  {
   "cell_type": "code",
   "execution_count": 5,
   "id": "9cf38187",
   "metadata": {},
   "outputs": [
    {
     "name": "stdout",
     "output_type": "stream",
     "text": [
      "1\n",
      "100\n",
      "300\n"
     ]
    }
   ],
   "source": [
    "for (a,b) in myList:\n",
    "    print(a)"
   ]
  },
  {
   "cell_type": "code",
   "execution_count": 6,
   "id": "94510e6d",
   "metadata": {},
   "outputs": [
    {
     "name": "stdout",
     "output_type": "stream",
     "text": [
      "2\n",
      "3\n",
      "200\n"
     ]
    }
   ],
   "source": [
    "for (a,b) in myList:\n",
    "    print(b)"
   ]
  },
  {
   "cell_type": "code",
   "execution_count": 7,
   "id": "8b048287",
   "metadata": {},
   "outputs": [
    {
     "name": "stdout",
     "output_type": "stream",
     "text": [
      "2\n",
      "3\n",
      "200\n"
     ]
    }
   ],
   "source": [
    "for (_,_) in myList:\n",
    "    print(_)"
   ]
  },
  {
   "cell_type": "code",
   "execution_count": 8,
   "id": "9015fed1",
   "metadata": {},
   "outputs": [
    {
     "name": "stdout",
     "output_type": "stream",
     "text": [
      "key1\n",
      "key2\n"
     ]
    }
   ],
   "source": [
    "D = {'key1':100, 'key2':'silicon'}\n",
    "for b in D:\n",
    "    print(b)"
   ]
  },
  {
   "cell_type": "markdown",
   "id": "ec084a44",
   "metadata": {},
   "source": [
    "###### By default when you iterate in dictionary, you iterate only through the keys"
   ]
  },
  {
   "cell_type": "code",
   "execution_count": 9,
   "id": "dfc1b430",
   "metadata": {},
   "outputs": [
    {
     "name": "stdout",
     "output_type": "stream",
     "text": [
      "('key1', 100)\n",
      "('key2', 'silicon')\n"
     ]
    }
   ],
   "source": [
    "D = {'key1':100, 'key2':'silicon'}\n",
    "for b in D.items():\n",
    "    print(b)"
   ]
  },
  {
   "cell_type": "code",
   "execution_count": 10,
   "id": "b08486f7",
   "metadata": {},
   "outputs": [
    {
     "data": {
      "text/plain": [
       "dict_items([('key1', 100), ('key2', 'silicon')])"
      ]
     },
     "execution_count": 10,
     "metadata": {},
     "output_type": "execute_result"
    }
   ],
   "source": [
    "D.items()"
   ]
  },
  {
   "cell_type": "code",
   "execution_count": 11,
   "id": "1a95f0e2",
   "metadata": {},
   "outputs": [
    {
     "name": "stdout",
     "output_type": "stream",
     "text": [
      "100\n",
      "silicon\n"
     ]
    }
   ],
   "source": [
    "for (a,b) in D.items():\n",
    "    print(b)"
   ]
  },
  {
   "cell_type": "markdown",
   "id": "439acb73",
   "metadata": {},
   "source": [
    "### while Loop"
   ]
  },
  {
   "cell_type": "code",
   "execution_count": 13,
   "id": "fd453230",
   "metadata": {},
   "outputs": [
    {
     "name": "stdout",
     "output_type": "stream",
     "text": [
      "Iterate value of x is 0\n",
      "Iterate value of x is 1\n",
      "Iterate value of x is 2\n",
      "Iterate value of x is 3\n",
      "Iterate value of x is 4\n",
      "Iterate value of x is 5\n",
      "Iterate value of x is 6\n",
      "Iterate value of x is 7\n",
      "Iterate value of x is 8\n",
      "Iterate value of x is 9\n"
     ]
    }
   ],
   "source": [
    "x = 0\n",
    "while(x<10):\n",
    "    print(\"Iterate value of x is\",x)\n",
    "    x = x + 1"
   ]
  },
  {
   "cell_type": "code",
   "execution_count": 16,
   "id": "7468e93c",
   "metadata": {},
   "outputs": [
    {
     "name": "stdout",
     "output_type": "stream",
     "text": [
      "Iterate value of x is 0\n",
      "Iterate value of x is 1\n",
      "Iterate value of x is 2\n",
      "Iterate value of x is 3\n",
      "Iterate value of x is 4\n",
      "Iterate value of x is 5\n",
      "Iterate value of x is 6\n",
      "Iterate value of x is 7\n",
      "Iterate value of x is 8\n",
      "Iterate value of x is 9\n"
     ]
    }
   ],
   "source": [
    "x = 0\n",
    "while(x<10):\n",
    "    print(\"Iterate value of x is {}\".format(x))\n",
    "    x = x + 1"
   ]
  },
  {
   "cell_type": "code",
   "execution_count": 17,
   "id": "1cef14d2",
   "metadata": {},
   "outputs": [],
   "source": [
    "x = [1,10]\n",
    "for a in x:\n",
    "    pass"
   ]
  },
  {
   "cell_type": "code",
   "execution_count": 18,
   "id": "19db53d4",
   "metadata": {},
   "outputs": [
    {
     "name": "stdout",
     "output_type": "stream",
     "text": [
      "s\n"
     ]
    }
   ],
   "source": [
    "myCollege = 'silicon'\n",
    "for a in myCollege:\n",
    "    if a == 'i':\n",
    "        break\n",
    "    print(a)"
   ]
  },
  {
   "cell_type": "code",
   "execution_count": 20,
   "id": "4928eb60",
   "metadata": {},
   "outputs": [
    {
     "name": "stdout",
     "output_type": "stream",
     "text": [
      "s\n",
      "l\n",
      "c\n",
      "o\n",
      "n\n"
     ]
    }
   ],
   "source": [
    "myCollege = 'silicon'\n",
    "for a in myCollege:\n",
    "    if a == 'i':\n",
    "        continue\n",
    "    print(a)"
   ]
  },
  {
   "cell_type": "code",
   "execution_count": null,
   "id": "a88ff065",
   "metadata": {},
   "outputs": [],
   "source": []
  }
 ],
 "metadata": {
  "kernelspec": {
   "display_name": "Python 3",
   "language": "python",
   "name": "python3"
  },
  "language_info": {
   "codemirror_mode": {
    "name": "ipython",
    "version": 3
   },
   "file_extension": ".py",
   "mimetype": "text/x-python",
   "name": "python",
   "nbconvert_exporter": "python",
   "pygments_lexer": "ipython3",
   "version": "3.8.8"
  }
 },
 "nbformat": 4,
 "nbformat_minor": 5
}
